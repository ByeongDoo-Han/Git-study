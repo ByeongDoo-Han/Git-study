{
 "cells": [
  {
   "cell_type": "markdown",
   "metadata": {},
   "source": [
    "# Git 기초\n",
    "___"
   ]
  },
  {
   "cell_type": "markdown",
   "metadata": {},
   "source": [
    "* Git이 필요한 이유\n",
    "* Git의 기본 Idea\n",
    "* Easy Git"
   ]
  },
  {
   "cell_type": "markdown",
   "metadata": {},
   "source": [
    "# Github 실습\n",
    "___"
   ]
  },
  {
   "cell_type": "markdown",
   "metadata": {},
   "source": [
    "* Github과 Sourcetree\n",
    "* 예시와 함께하는 기초 명령어\n",
    "* 알아두면 좋은 심화 명령어"
   ]
  },
  {
   "cell_type": "markdown",
   "metadata": {},
   "source": [
    "# Github Page 활용하기\n",
    "___"
   ]
  },
  {
   "cell_type": "markdown",
   "metadata": {},
   "source": [
    "* Markdown 문법\n",
    "* Github Page 구조 및 실습\n",
    "* 앞으로 관리 방법"
   ]
  },
  {
   "cell_type": "markdown",
   "metadata": {},
   "source": [
    "___\n",
    "* VCS (Version Control System, 버전 관리 시스템)\n",
    "    - 파일의 **변경 사항**을 저장하고, **원하는 시점**의 버전을 다시 꺼내올 수 있는 시스템"
   ]
  },
  {
   "cell_type": "markdown",
   "metadata": {},
   "source": [
    "### Snapshot \n",
    "- 특정 시점에서 파일의 상태(현재 상태의 모든 정보)\n",
    "\n",
    "### Delta\n",
    "- 파일의 이전 상태와 비교한 변경사항"
   ]
  },
  {
   "cell_type": "markdown",
   "metadata": {},
   "source": [
    "___\n",
    "* 선언 - git init\n",
    "* 저장소 - repo\n"
   ]
  },
  {
   "cell_type": "markdown",
   "metadata": {},
   "source": [
    "선언(git init)한 이후에는 Local에서 버전관리가 가능하고\n",
    "데이터를 **추가**만 할 수 있다. (삭제기록을 추가)"
   ]
  },
  {
   "cell_type": "markdown",
   "metadata": {},
   "source": [
    "* 파일을 추적하지 않고, 각 문자와 줄을 추적한다.\n",
    "\n",
    "    -> 빈 디렉토리는 추적 x"
   ]
  },
  {
   "cell_type": "markdown",
   "metadata": {},
   "source": [
    "___\n",
    "* Unmodified - 이전에 버전과 비교하여 **수정된 부분이 없는** 상태\n",
    "\n",
    "* Modified - 이전에 버전과 비교하여 **수정된 부분이 있는** 상태\n",
    "\n",
    "* Staged 저장(커밋)을 위해 준비된 상태"
   ]
  },
  {
   "cell_type": "markdown",
   "metadata": {},
   "source": [
    "___\n",
    "* 커밋을 하면 40자리의 Hash 값을 부여받고, 주소로 이용된다."
   ]
  },
  {
   "cell_type": "markdown",
   "metadata": {},
   "source": [
    "# Branch\n",
    "___\n",
    "master branch? - main version"
   ]
  },
  {
   "cell_type": "markdown",
   "metadata": {},
   "source": [
    "* 버전 저장? - .git\n",
    "* 무시할 저장(git에서 추적무시) - .gitignore"
   ]
  },
  {
   "cell_type": "markdown",
   "metadata": {},
   "source": [
    "README.md - 설명을 작성한다.\n",
    "* 작성팁\n",
    "    1. 프로젝트 내용 (이미지/로고)\n",
    "    1. 설치 방법\n",
    "    1. 코드 예제\n",
    "    1. 개발 환경 설정 방법\n",
    "    1. 기여방법\n",
    "    6. 로그 변경\n",
    "    1. 크레딧\n",
    "    1. 라이센스\n",
    "    1. 연락처"
   ]
  },
  {
   "cell_type": "markdown",
   "metadata": {},
   "source": [
    "1. git init - 로컬에서 진행\n",
    " * .git 폴더 생성됨\n",
    " * 무시할 저장(git에서 추적무시)은 - .gitignore 에 저장\n",
    "1. git add [file] - stage에 올림\n",
    "1. git status, git diff - 어떤걸 수정했고, 스테이징 했나, 어떤 파일이 얼마나 바꼈나\n",
    "1. git commit -m \"add README.md\" - 코멘트와 함께 커밋\n",
    "1. git log - 이전 커밋 기록 살펴보기\n",
    "1. git remote add origin [url] - 원격 저장소와 연결\n",
    "1. git push origin master - 원격 저장소 master branch에 업데이트\n",
    "    - 내가 보는 버전과 모두가 보는 버전이 동기화"
   ]
  },
  {
   "cell_type": "markdown",
   "metadata": {},
   "source": [
    "* git checkout master\n",
    "* git log --all"
   ]
  },
  {
   "cell_type": "markdown",
   "metadata": {},
   "source": [
    "# 브랜치 만들고 합치기\n"
   ]
  },
  {
   "cell_type": "markdown",
   "metadata": {},
   "source": [
    "* git branch [name]\n",
    "* git checkout [name] - [name]브랜치로 이동\n",
    "* git merge\n",
    "* git rebase master - base 를 master로 rebase\n",
    "* git branch -d [name] -완료한 브랜치를 지운다"
   ]
  },
  {
   "cell_type": "code",
   "execution_count": null,
   "metadata": {},
   "outputs": [],
   "source": []
  }
 ],
 "metadata": {
  "kernelspec": {
   "display_name": "Python 3",
   "language": "python",
   "name": "python3"
  },
  "language_info": {
   "codemirror_mode": {
    "name": "ipython",
    "version": 3
   },
   "file_extension": ".py",
   "mimetype": "text/x-python",
   "name": "python",
   "nbconvert_exporter": "python",
   "pygments_lexer": "ipython3",
   "version": "3.7.3"
  }
 },
 "nbformat": 4,
 "nbformat_minor": 2
}
